{
 "cells": [
  {
   "cell_type": "markdown",
   "id": "7ea8e89a",
   "metadata": {},
   "source": [
    "### Q1"
   ]
  },
  {
   "cell_type": "code",
   "execution_count": null,
   "id": "b28202e1",
   "metadata": {},
   "outputs": [],
   "source": [
    "you can comment a code using '#' sign. There are two types of comments single line and multiline comment.\n",
    "#This is single line comment.\n",
    "\n",
    "#This is \n",
    "#multiline \n",
    "#comment."
   ]
  },
  {
   "cell_type": "markdown",
   "id": "6d658675",
   "metadata": {},
   "source": [
    "### Q2"
   ]
  },
  {
   "cell_type": "code",
   "execution_count": 2,
   "id": "f556e209",
   "metadata": {},
   "outputs": [],
   "source": [
    "#variables are containers used to store values.\n",
    "#A variable is created the moment you first assign a value to it.\n",
    "#Example -\n",
    "name=\"Pratik\"\n",
    "age=20\n"
   ]
  },
  {
   "cell_type": "markdown",
   "id": "cd0c3d0c",
   "metadata": {},
   "source": [
    "### Q3"
   ]
  },
  {
   "cell_type": "code",
   "execution_count": 3,
   "id": "5426be4c",
   "metadata": {},
   "outputs": [],
   "source": [
    "#You can convert one data type to another using typecsting.\n",
    "#Example -\n",
    "x = str(3)    # x will be '3'\n",
    "y = int(3)    # y will be 3\n",
    "z = float(3)  # z will be 3.0"
   ]
  },
  {
   "cell_type": "markdown",
   "id": "4b88d474",
   "metadata": {},
   "source": [
    "### Q4"
   ]
  },
  {
   "cell_type": "code",
   "execution_count": 14,
   "id": "06308729",
   "metadata": {},
   "outputs": [],
   "source": [
    "# Open the command prompt and type python and press the enter button, now enter your python script and execute it.\n",
    "# To exit from this mode write exit() and press enter."
   ]
  },
  {
   "cell_type": "markdown",
   "id": "a0a4f69e",
   "metadata": {},
   "source": [
    "### Q5"
   ]
  },
  {
   "cell_type": "code",
   "execution_count": 5,
   "id": "af37fe57",
   "metadata": {},
   "outputs": [
    {
     "data": {
      "text/plain": [
       "[2, 3]"
      ]
     },
     "execution_count": 5,
     "metadata": {},
     "output_type": "execute_result"
    }
   ],
   "source": [
    "my_list=[1,2,3,4,5]\n",
    "my_list[1:3]"
   ]
  },
  {
   "cell_type": "markdown",
   "id": "a0e194f3",
   "metadata": {},
   "source": [
    "### Q6"
   ]
  },
  {
   "cell_type": "code",
   "execution_count": 6,
   "id": "d5112974",
   "metadata": {},
   "outputs": [
    {
     "data": {
      "text/plain": [
       "complex"
      ]
     },
     "execution_count": 6,
     "metadata": {},
     "output_type": "execute_result"
    }
   ],
   "source": [
    "#Complex number are combination of real and imaginary part.\n",
    "#you can represent it in following way\n",
    "complex_no=4+8j\n",
    "type(complex_no)"
   ]
  },
  {
   "cell_type": "markdown",
   "id": "de63e6b5",
   "metadata": {},
   "source": [
    "### Q7"
   ]
  },
  {
   "cell_type": "code",
   "execution_count": 7,
   "id": "fe27cf18",
   "metadata": {},
   "outputs": [],
   "source": [
    "age=25"
   ]
  },
  {
   "cell_type": "markdown",
   "id": "6a2ab868",
   "metadata": {},
   "source": [
    "### Q8"
   ]
  },
  {
   "cell_type": "code",
   "execution_count": 8,
   "id": "d6674e16",
   "metadata": {},
   "outputs": [
    {
     "data": {
      "text/plain": [
       "float"
      ]
     },
     "execution_count": 8,
     "metadata": {},
     "output_type": "execute_result"
    }
   ],
   "source": [
    "price=9.99\n",
    "type(price)"
   ]
  },
  {
   "cell_type": "markdown",
   "id": "ee07a277",
   "metadata": {},
   "source": [
    "### Q9"
   ]
  },
  {
   "cell_type": "code",
   "execution_count": 10,
   "id": "29ad93b1",
   "metadata": {},
   "outputs": [
    {
     "name": "stdout",
     "output_type": "stream",
     "text": [
      "Pratik Patil\n"
     ]
    }
   ],
   "source": [
    "name=\"Pratik Patil\"\n",
    "print(name)"
   ]
  },
  {
   "cell_type": "markdown",
   "id": "ec3ffd9a",
   "metadata": {},
   "source": [
    "### Q10"
   ]
  },
  {
   "cell_type": "code",
   "execution_count": 12,
   "id": "a23b28c6",
   "metadata": {},
   "outputs": [
    {
     "data": {
      "text/plain": [
       "'World'"
      ]
     },
     "execution_count": 12,
     "metadata": {},
     "output_type": "execute_result"
    }
   ],
   "source": [
    "s=\"Hello, World!\"\n",
    "s[7:-1]"
   ]
  },
  {
   "cell_type": "markdown",
   "id": "3c089d1c",
   "metadata": {},
   "source": [
    "### Q11"
   ]
  },
  {
   "cell_type": "code",
   "execution_count": 13,
   "id": "85e09581",
   "metadata": {},
   "outputs": [],
   "source": [
    "is_student=True"
   ]
  },
  {
   "cell_type": "code",
   "execution_count": null,
   "id": "9a3ed3c5",
   "metadata": {},
   "outputs": [],
   "source": []
  }
 ],
 "metadata": {
  "kernelspec": {
   "display_name": "Python 3 (ipykernel)",
   "language": "python",
   "name": "python3"
  },
  "language_info": {
   "codemirror_mode": {
    "name": "ipython",
    "version": 3
   },
   "file_extension": ".py",
   "mimetype": "text/x-python",
   "name": "python",
   "nbconvert_exporter": "python",
   "pygments_lexer": "ipython3",
   "version": "3.9.13"
  }
 },
 "nbformat": 4,
 "nbformat_minor": 5
}
